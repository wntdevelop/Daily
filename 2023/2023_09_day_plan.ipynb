{
 "cells": [
  {
   "cell_type": "code",
   "execution_count": null,
   "metadata": {},
   "outputs": [],
   "source": [
    "'''\n",
    "# 2023_09_02\n",
    "\n",
    "    # 2023_09_02_first\n",
    "        # 06:00 ~ 12:00\n",
    "            06:00 ~ 08:00 - zzZ\n",
    "            08:00 ~ 09:00 - breakfirst\n",
    "            09:00 ~ 10:00 - Vocapod day 10\n",
    "            10:00 ~ 12:00 - Curriculum Learning\n",
    "\n",
    "    # 2023_09_02_second\n",
    "        # 12:00 ~ 18:00\n",
    "            12:00 ~ 13:00 - lunch\n",
    "            13:00 ~ 17:00 - Curriculum Learning\n",
    "            17:00 ~ 18:00 - exercise\n",
    "\n",
    "    # 2023_09_02_third\n",
    "        # 18:00 ~ 24:00\n",
    "            18:00 ~ 19:00 - dinner\n",
    "            19:00 ~ 24:00 - Curriculum Learning\n",
    "            \n",
    "    # 2023_09_02_fourth\n",
    "        # 24:00 ~ 06:00\n",
    "            00:00 ~ 01:00 - badminton\n",
    "            01:00 ~ 06:00 - zzZ\n",
    "        \n",
    "    # do_list\n",
    "        - Web_server_vocapod\n",
    "        - NH-ORCA-c++\n",
    "        - Portfolio_git\n",
    "        - comento_vod\n",
    "\n",
    "    # priority_do_list\n",
    "        - 식품 유통기한 체크리스트 만들기 (카카오톡 봇?)\n",
    "        - 집 대청소\n",
    "        - 다이소 물품 구매 (책상에 붙는 멀티탭 거치캡, 충전기 고정, 마우스 고정, 선 정리, 창문쪽 활용, 옷걸이 , 거울 부착, (전자기기)핸드폰(탭)거치대, RGB TO HEMI, 밴드, 여러 충전기 , 로션 보관함, 커튼)\n",
    "        - 한공대 도서관 책 (리눅스 마스터 1급, (깡샘의) 안드로이드 앱 프로그래밍 with 코틀린 : 친절한 문법 설명 + 18개 실습 예제로 배우는 모바일 앱 개발, 웹 개발 레시피 : HTML5, CSS3, jQuery부터 서버 설정, 테스트까지)\n",
    "        - Curriculum Learning 완성시키기\n",
    "\n",
    "'''"
   ]
  }
 ],
 "metadata": {
  "language_info": {
   "name": "python"
  },
  "orig_nbformat": 4
 },
 "nbformat": 4,
 "nbformat_minor": 2
}
